{
 "cells": [
  {
   "cell_type": "code",
   "execution_count": 1,
   "metadata": {},
   "outputs": [
    {
     "name": "stderr",
     "output_type": "stream",
     "text": [
      "/Users/bcyl/FairPrescriptionRules/venv/lib/python3.12/site-packages/tqdm/auto.py:21: TqdmWarning: IProgress not found. Please update jupyter and ipywidgets. See https://ipywidgets.readthedocs.io/en/stable/user_install.html\n",
      "  from .autonotebook import tqdm as notebook_tqdm\n"
     ]
    }
   ],
   "source": [
    "import dowhy\n",
    "from dowhy import CausalModel\n",
    "from causallearn.search.ConstraintBased.PC import pc\n",
    "from causallearn.utils.GraphUtils import GraphUtils\n",
    "from causallearn.utils.GraphUtils import GraphUtils\n",
    "from causallearn.search.ScoreBased.GES import ges\n",
    "from causallearn.search.FCMBased import lingam\n",
    "\n",
    "from pathlib import Path\n",
    "import os \n",
    "\n",
    "import numpy as np\n",
    "import pandas as pd\n",
    "import graphviz\n",
    "import networkx as nx \n",
    "\n",
    "np.set_printoptions(precision=3, suppress=True)\n",
    "np.random.seed(0)"
   ]
  },
  {
   "cell_type": "markdown",
   "metadata": {},
   "source": [
    "Convert matrix into DAG in dot format"
   ]
  },
  {
   "cell_type": "code",
   "execution_count": null,
   "metadata": {},
   "outputs": [],
   "source": [
    "\n",
    "def make_graph(adjacency_matrix, labels=None):\n",
    "    idx = np.abs(adjacency_matrix) > 0.01\n",
    "    dirs = np.where(idx)\n",
    "    d = graphviz.Digraph(engine='dot')\n",
    "    names = labels if labels else [f'x{i}' for i in range(len(adjacency_matrix))]\n",
    "    for name in names:\n",
    "        d.node(name)\n",
    "    for to, from_, coef in zip(dirs[0], dirs[1], adjacency_matrix[idx]):\n",
    "        d.edge(names[from_], names[to], label=str(coef))\n",
    "    return d\n",
    "\n",
    "def str_to_dot(string):\n",
    "    '''\n",
    "    Converts input string from graphviz library to valid DOT graph format.\n",
    "    '''\n",
    "    graph = string.strip().replace('\\n', ';').replace('\\t','')\n",
    "    graph = graph[:9] + graph[10:-2] + graph[-1] # Removing unnecessary characters from string\n",
    "    return graph"
   ]
  },
  {
   "cell_type": "markdown",
   "metadata": {},
   "source": [
    "# DAG Generator"
   ]
  },
  {
   "cell_type": "code",
   "execution_count": 4,
   "metadata": {},
   "outputs": [
    {
     "name": "stderr",
     "output_type": "stream",
     "text": [
      "Depth=4, working on node 1:  10%|█         | 2/20 [00:00<00:00, 861.70it/s] "
     ]
    },
    {
     "ename": "KeyboardInterrupt",
     "evalue": "",
     "output_type": "error",
     "traceback": [
      "\u001b[0;31m---------------------------------------------------------------------------\u001b[0m",
      "\u001b[0;31mKeyboardInterrupt\u001b[0m                         Traceback (most recent call last)",
      "Cell \u001b[0;32mIn[4], line 39\u001b[0m\n\u001b[1;32m     25\u001b[0m     \u001b[38;5;28mprint\u001b[39m(df[np\u001b[38;5;241m.\u001b[39misnan(df\u001b[38;5;241m.\u001b[39mto_numpy())\u001b[38;5;241m.\u001b[39many(axis\u001b[38;5;241m=\u001b[39m\u001b[38;5;241m1\u001b[39m)])\n\u001b[1;32m     27\u001b[0m     \u001b[38;5;66;03m# default parameters\u001b[39;00m\n\u001b[1;32m     28\u001b[0m     \u001b[38;5;66;03m# # or customized parameters\u001b[39;00m\n\u001b[1;32m     29\u001b[0m     \u001b[38;5;66;03m# cg = pc(df, alpha, indep_test, stable, uc_rule, uc_priority, mvpc, correction_name, background_knowledge, verbose, show_progress)\u001b[39;00m\n\u001b[0;32m   (...)\u001b[0m\n\u001b[1;32m     36\u001b[0m     \u001b[38;5;66;03m# pyd = GraphUtils.to_pydot(cg.G)\u001b[39;00m\n\u001b[1;32m     37\u001b[0m     \u001b[38;5;66;03m# pyd.write_png('simple_test.png')\u001b[39;00m\n\u001b[0;32m---> 39\u001b[0m \u001b[43mDAG_generator\u001b[49m\u001b[43m(\u001b[49m\u001b[38;5;124;43m\"\u001b[39;49m\u001b[38;5;124;43m../../data/stackoverflow/so_countries_col_new.csv\u001b[39;49m\u001b[38;5;124;43m\"\u001b[39;49m\u001b[43m)\u001b[49m\n",
      "Cell \u001b[0;32mIn[4], line 19\u001b[0m, in \u001b[0;36mDAG_generator\u001b[0;34m(path)\u001b[0m\n\u001b[1;32m     17\u001b[0m df \u001b[38;5;241m=\u001b[39m pd\u001b[38;5;241m.\u001b[39mread_csv(path)\n\u001b[1;32m     18\u001b[0m df \u001b[38;5;241m=\u001b[39m df\u001b[38;5;241m.\u001b[39mdrop([\u001b[38;5;124m'\u001b[39m\u001b[38;5;124mUnnamed: 0\u001b[39m\u001b[38;5;124m'\u001b[39m], axis\u001b[38;5;241m=\u001b[39m\u001b[38;5;241m1\u001b[39m, errors\u001b[38;5;241m=\u001b[39m\u001b[38;5;124m'\u001b[39m\u001b[38;5;124mignore\u001b[39m\u001b[38;5;124m'\u001b[39m)\u001b[38;5;241m.\u001b[39mto_numpy()\n\u001b[0;32m---> 19\u001b[0m cg \u001b[38;5;241m=\u001b[39m \u001b[43mpc\u001b[49m\u001b[43m(\u001b[49m\u001b[43mdf\u001b[49m\u001b[43m,\u001b[49m\u001b[43m \u001b[49m\u001b[43mindep_test\u001b[49m\u001b[38;5;241;43m=\u001b[39;49m\u001b[38;5;124;43m'\u001b[39;49m\u001b[38;5;124;43mchisq\u001b[39;49m\u001b[38;5;124;43m'\u001b[39;49m\u001b[43m)\u001b[49m\n\u001b[1;32m     21\u001b[0m cg \u001b[38;5;241m=\u001b[39m pc(df, indep_test\u001b[38;5;241m=\u001b[39m\u001b[38;5;124m\"\u001b[39m\u001b[38;5;124mmv_fisherz\u001b[39m\u001b[38;5;124m\"\u001b[39m, mvpc\u001b[38;5;241m=\u001b[39m\u001b[38;5;28;01mTrue\u001b[39;00m)\n\u001b[1;32m     22\u001b[0m Record \u001b[38;5;241m=\u001b[39m ges(df, score_func\u001b[38;5;241m=\u001b[39m\u001b[38;5;124m\"\u001b[39m\u001b[38;5;124mlocal_score_marginal_multi\u001b[39m\u001b[38;5;124m\"\u001b[39m, )\n",
      "File \u001b[0;32m~/FairPrescriptionRules/venv/lib/python3.12/site-packages/causallearn/search/ConstraintBased/PC.py:46\u001b[0m, in \u001b[0;36mpc\u001b[0;34m(data, alpha, indep_test, stable, uc_rule, uc_priority, mvpc, correction_name, background_knowledge, verbose, show_progress, node_names, **kwargs)\u001b[0m\n\u001b[1;32m     41\u001b[0m     \u001b[38;5;28;01mreturn\u001b[39;00m mvpc_alg(data\u001b[38;5;241m=\u001b[39mdata, node_names\u001b[38;5;241m=\u001b[39mnode_names, alpha\u001b[38;5;241m=\u001b[39malpha, indep_test\u001b[38;5;241m=\u001b[39mindep_test, correction_name\u001b[38;5;241m=\u001b[39mcorrection_name, stable\u001b[38;5;241m=\u001b[39mstable,\n\u001b[1;32m     42\u001b[0m                     uc_rule\u001b[38;5;241m=\u001b[39muc_rule, uc_priority\u001b[38;5;241m=\u001b[39muc_priority, background_knowledge\u001b[38;5;241m=\u001b[39mbackground_knowledge,\n\u001b[1;32m     43\u001b[0m                     verbose\u001b[38;5;241m=\u001b[39mverbose,\n\u001b[1;32m     44\u001b[0m                     show_progress\u001b[38;5;241m=\u001b[39mshow_progress, \u001b[38;5;241m*\u001b[39m\u001b[38;5;241m*\u001b[39mkwargs)\n\u001b[1;32m     45\u001b[0m \u001b[38;5;28;01melse\u001b[39;00m:\n\u001b[0;32m---> 46\u001b[0m     \u001b[38;5;28;01mreturn\u001b[39;00m \u001b[43mpc_alg\u001b[49m\u001b[43m(\u001b[49m\u001b[43mdata\u001b[49m\u001b[38;5;241;43m=\u001b[39;49m\u001b[43mdata\u001b[49m\u001b[43m,\u001b[49m\u001b[43m \u001b[49m\u001b[43mnode_names\u001b[49m\u001b[38;5;241;43m=\u001b[39;49m\u001b[43mnode_names\u001b[49m\u001b[43m,\u001b[49m\u001b[43m \u001b[49m\u001b[43malpha\u001b[49m\u001b[38;5;241;43m=\u001b[39;49m\u001b[43malpha\u001b[49m\u001b[43m,\u001b[49m\u001b[43m \u001b[49m\u001b[43mindep_test\u001b[49m\u001b[38;5;241;43m=\u001b[39;49m\u001b[43mindep_test\u001b[49m\u001b[43m,\u001b[49m\u001b[43m \u001b[49m\u001b[43mstable\u001b[49m\u001b[38;5;241;43m=\u001b[39;49m\u001b[43mstable\u001b[49m\u001b[43m,\u001b[49m\u001b[43m \u001b[49m\u001b[43muc_rule\u001b[49m\u001b[38;5;241;43m=\u001b[39;49m\u001b[43muc_rule\u001b[49m\u001b[43m,\u001b[49m\n\u001b[1;32m     47\u001b[0m \u001b[43m                  \u001b[49m\u001b[43muc_priority\u001b[49m\u001b[38;5;241;43m=\u001b[39;49m\u001b[43muc_priority\u001b[49m\u001b[43m,\u001b[49m\u001b[43m \u001b[49m\u001b[43mbackground_knowledge\u001b[49m\u001b[38;5;241;43m=\u001b[39;49m\u001b[43mbackground_knowledge\u001b[49m\u001b[43m,\u001b[49m\u001b[43m \u001b[49m\u001b[43mverbose\u001b[49m\u001b[38;5;241;43m=\u001b[39;49m\u001b[43mverbose\u001b[49m\u001b[43m,\u001b[49m\n\u001b[1;32m     48\u001b[0m \u001b[43m                  \u001b[49m\u001b[43mshow_progress\u001b[49m\u001b[38;5;241;43m=\u001b[39;49m\u001b[43mshow_progress\u001b[49m\u001b[43m,\u001b[49m\u001b[43m \u001b[49m\u001b[38;5;241;43m*\u001b[39;49m\u001b[38;5;241;43m*\u001b[39;49m\u001b[43mkwargs\u001b[49m\u001b[43m)\u001b[49m\n",
      "File \u001b[0;32m~/FairPrescriptionRules/venv/lib/python3.12/site-packages/causallearn/search/ConstraintBased/PC.py:104\u001b[0m, in \u001b[0;36mpc_alg\u001b[0;34m(data, node_names, alpha, indep_test, stable, uc_rule, uc_priority, background_knowledge, verbose, show_progress, **kwargs)\u001b[0m\n\u001b[1;32m    102\u001b[0m start \u001b[38;5;241m=\u001b[39m time\u001b[38;5;241m.\u001b[39mtime()\n\u001b[1;32m    103\u001b[0m indep_test \u001b[38;5;241m=\u001b[39m CIT(data, indep_test, \u001b[38;5;241m*\u001b[39m\u001b[38;5;241m*\u001b[39mkwargs)\n\u001b[0;32m--> 104\u001b[0m cg_1 \u001b[38;5;241m=\u001b[39m \u001b[43mSkeletonDiscovery\u001b[49m\u001b[38;5;241;43m.\u001b[39;49m\u001b[43mskeleton_discovery\u001b[49m\u001b[43m(\u001b[49m\u001b[43mdata\u001b[49m\u001b[43m,\u001b[49m\u001b[43m \u001b[49m\u001b[43malpha\u001b[49m\u001b[43m,\u001b[49m\u001b[43m \u001b[49m\u001b[43mindep_test\u001b[49m\u001b[43m,\u001b[49m\u001b[43m \u001b[49m\u001b[43mstable\u001b[49m\u001b[43m,\u001b[49m\n\u001b[1;32m    105\u001b[0m \u001b[43m                                            \u001b[49m\u001b[43mbackground_knowledge\u001b[49m\u001b[38;5;241;43m=\u001b[39;49m\u001b[43mbackground_knowledge\u001b[49m\u001b[43m,\u001b[49m\u001b[43m \u001b[49m\u001b[43mverbose\u001b[49m\u001b[38;5;241;43m=\u001b[39;49m\u001b[43mverbose\u001b[49m\u001b[43m,\u001b[49m\n\u001b[1;32m    106\u001b[0m \u001b[43m                                            \u001b[49m\u001b[43mshow_progress\u001b[49m\u001b[38;5;241;43m=\u001b[39;49m\u001b[43mshow_progress\u001b[49m\u001b[43m,\u001b[49m\u001b[43m \u001b[49m\u001b[43mnode_names\u001b[49m\u001b[38;5;241;43m=\u001b[39;49m\u001b[43mnode_names\u001b[49m\u001b[43m)\u001b[49m\n\u001b[1;32m    108\u001b[0m \u001b[38;5;28;01mif\u001b[39;00m background_knowledge \u001b[38;5;129;01mis\u001b[39;00m \u001b[38;5;129;01mnot\u001b[39;00m \u001b[38;5;28;01mNone\u001b[39;00m:\n\u001b[1;32m    109\u001b[0m     orient_by_background_knowledge(cg_1, background_knowledge)\n",
      "File \u001b[0;32m~/FairPrescriptionRules/venv/lib/python3.12/site-packages/causallearn/utils/PCUtils/SkeletonDiscovery.py:101\u001b[0m, in \u001b[0;36mskeleton_discovery\u001b[0;34m(data, alpha, indep_test, stable, background_knowledge, verbose, show_progress, node_names)\u001b[0m\n\u001b[1;32m     99\u001b[0m Neigh_x_noy \u001b[38;5;241m=\u001b[39m np\u001b[38;5;241m.\u001b[39mdelete(Neigh_x, np\u001b[38;5;241m.\u001b[39mwhere(Neigh_x \u001b[38;5;241m==\u001b[39m y))\n\u001b[1;32m    100\u001b[0m \u001b[38;5;28;01mfor\u001b[39;00m S \u001b[38;5;129;01min\u001b[39;00m combinations(Neigh_x_noy, depth):\n\u001b[0;32m--> 101\u001b[0m     p \u001b[38;5;241m=\u001b[39m \u001b[43mcg\u001b[49m\u001b[38;5;241;43m.\u001b[39;49m\u001b[43mci_test\u001b[49m\u001b[43m(\u001b[49m\u001b[43mx\u001b[49m\u001b[43m,\u001b[49m\u001b[43m \u001b[49m\u001b[43my\u001b[49m\u001b[43m,\u001b[49m\u001b[43m \u001b[49m\u001b[43mS\u001b[49m\u001b[43m)\u001b[49m\n\u001b[1;32m    102\u001b[0m     \u001b[38;5;28;01mif\u001b[39;00m p \u001b[38;5;241m>\u001b[39m alpha:\n\u001b[1;32m    103\u001b[0m         \u001b[38;5;28;01mif\u001b[39;00m verbose:\n",
      "File \u001b[0;32m~/FairPrescriptionRules/venv/lib/python3.12/site-packages/causallearn/graph/GraphClass.py:58\u001b[0m, in \u001b[0;36mCausalGraph.ci_test\u001b[0;34m(self, i, j, S)\u001b[0m\n\u001b[1;32m     56\u001b[0m \u001b[38;5;66;03m# assert i != j and not i in S and not j in S\u001b[39;00m\n\u001b[1;32m     57\u001b[0m \u001b[38;5;28;01mif\u001b[39;00m \u001b[38;5;28mself\u001b[39m\u001b[38;5;241m.\u001b[39mtest\u001b[38;5;241m.\u001b[39mmethod \u001b[38;5;241m==\u001b[39m \u001b[38;5;124m'\u001b[39m\u001b[38;5;124mmc_fisherz\u001b[39m\u001b[38;5;124m'\u001b[39m: \u001b[38;5;28;01mreturn\u001b[39;00m \u001b[38;5;28mself\u001b[39m\u001b[38;5;241m.\u001b[39mtest(i, j, S, \u001b[38;5;28mself\u001b[39m\u001b[38;5;241m.\u001b[39mnx_skel, \u001b[38;5;28mself\u001b[39m\u001b[38;5;241m.\u001b[39mprt_m)\n\u001b[0;32m---> 58\u001b[0m \u001b[38;5;28;01mreturn\u001b[39;00m \u001b[38;5;28;43mself\u001b[39;49m\u001b[38;5;241;43m.\u001b[39;49m\u001b[43mtest\u001b[49m\u001b[43m(\u001b[49m\u001b[43mi\u001b[49m\u001b[43m,\u001b[49m\u001b[43m \u001b[49m\u001b[43mj\u001b[49m\u001b[43m,\u001b[49m\u001b[43m \u001b[49m\u001b[43mS\u001b[49m\u001b[43m)\u001b[49m\n",
      "File \u001b[0;32m~/FairPrescriptionRules/venv/lib/python3.12/site-packages/causallearn/utils/cit.py:396\u001b[0m, in \u001b[0;36mChisq_or_Gsq.__call__\u001b[0;34m(self, X, Y, condition_set)\u001b[0m\n\u001b[1;32m    394\u001b[0m \u001b[38;5;28;01mif\u001b[39;00m cache_key \u001b[38;5;129;01min\u001b[39;00m \u001b[38;5;28mself\u001b[39m\u001b[38;5;241m.\u001b[39mpvalue_cache: \u001b[38;5;28;01mreturn\u001b[39;00m \u001b[38;5;28mself\u001b[39m\u001b[38;5;241m.\u001b[39mpvalue_cache[cache_key]\n\u001b[1;32m    395\u001b[0m indexes \u001b[38;5;241m=\u001b[39m condition_set \u001b[38;5;241m+\u001b[39m Xs \u001b[38;5;241m+\u001b[39m Ys\n\u001b[0;32m--> 396\u001b[0m p \u001b[38;5;241m=\u001b[39m \u001b[38;5;28;43mself\u001b[39;49m\u001b[38;5;241;43m.\u001b[39;49m\u001b[43mchisq_or_gsq_test\u001b[49m\u001b[43m(\u001b[49m\u001b[38;5;28;43mself\u001b[39;49m\u001b[38;5;241;43m.\u001b[39;49m\u001b[43mdata\u001b[49m\u001b[43m[\u001b[49m\u001b[43m:\u001b[49m\u001b[43m,\u001b[49m\u001b[43m \u001b[49m\u001b[43mindexes\u001b[49m\u001b[43m]\u001b[49m\u001b[38;5;241;43m.\u001b[39;49m\u001b[43mT\u001b[49m\u001b[43m,\u001b[49m\u001b[43m \u001b[49m\u001b[38;5;28;43mself\u001b[39;49m\u001b[38;5;241;43m.\u001b[39;49m\u001b[43mcardinalities\u001b[49m\u001b[43m[\u001b[49m\u001b[43mindexes\u001b[49m\u001b[43m]\u001b[49m\u001b[43m,\u001b[49m\u001b[43m \u001b[49m\u001b[43mG_sq\u001b[49m\u001b[38;5;241;43m=\u001b[39;49m\u001b[38;5;28;43mself\u001b[39;49m\u001b[38;5;241;43m.\u001b[39;49m\u001b[43mmethod\u001b[49m\u001b[43m \u001b[49m\u001b[38;5;241;43m==\u001b[39;49m\u001b[43m \u001b[49m\u001b[38;5;124;43m'\u001b[39;49m\u001b[38;5;124;43mgsq\u001b[39;49m\u001b[38;5;124;43m'\u001b[39;49m\u001b[43m)\u001b[49m\n\u001b[1;32m    397\u001b[0m \u001b[38;5;28mself\u001b[39m\u001b[38;5;241m.\u001b[39mpvalue_cache[cache_key] \u001b[38;5;241m=\u001b[39m p\n\u001b[1;32m    398\u001b[0m \u001b[38;5;28;01mreturn\u001b[39;00m p\n",
      "File \u001b[0;32m~/FairPrescriptionRules/venv/lib/python3.12/site-packages/causallearn/utils/cit.py:389\u001b[0m, in \u001b[0;36mChisq_or_Gsq.chisq_or_gsq_test\u001b[0;34m(self, dataSXY, cardSXY, G_sq)\u001b[0m\n\u001b[1;32m    387\u001b[0m SxyJointCounts, SMarginalCounts, SxJointCounts, SyJointCounts \u001b[38;5;241m=\u001b[39m _Fill3DCountTable(dataSXY, cardSXY)\n\u001b[1;32m    388\u001b[0m SxyExpectedCounts \u001b[38;5;241m=\u001b[39m SxJointCounts[:, :, \u001b[38;5;28;01mNone\u001b[39;00m] \u001b[38;5;241m*\u001b[39m SyJointCounts[:, \u001b[38;5;28;01mNone\u001b[39;00m, :] \u001b[38;5;241m/\u001b[39m SMarginalCounts[:, \u001b[38;5;28;01mNone\u001b[39;00m, \u001b[38;5;28;01mNone\u001b[39;00m]\n\u001b[0;32m--> 389\u001b[0m \u001b[38;5;28;01mreturn\u001b[39;00m \u001b[43m_CalculatePValue\u001b[49m\u001b[43m(\u001b[49m\u001b[43mSxyJointCounts\u001b[49m\u001b[43m,\u001b[49m\u001b[43m \u001b[49m\u001b[43mSxyExpectedCounts\u001b[49m\u001b[43m)\u001b[49m\n",
      "File \u001b[0;32m~/FairPrescriptionRules/venv/lib/python3.12/site-packages/causallearn/utils/cit.py:369\u001b[0m, in \u001b[0;36mChisq_or_Gsq.chisq_or_gsq_test.<locals>._CalculatePValue\u001b[0;34m(cTables, eTables)\u001b[0m\n\u001b[1;32m    366\u001b[0m eTables_zero_to_one[eTables_zero_inds] \u001b[38;5;241m=\u001b[39m \u001b[38;5;241m1\u001b[39m  \u001b[38;5;66;03m# for legal division\u001b[39;00m\n\u001b[1;32m    368\u001b[0m \u001b[38;5;28;01mif\u001b[39;00m G_sq \u001b[38;5;241m==\u001b[39m \u001b[38;5;28;01mFalse\u001b[39;00m:\n\u001b[0;32m--> 369\u001b[0m     sum_of_chi_square \u001b[38;5;241m=\u001b[39m \u001b[43mnp\u001b[49m\u001b[38;5;241;43m.\u001b[39;49m\u001b[43msum\u001b[49m\u001b[43m(\u001b[49m\u001b[43m(\u001b[49m\u001b[43m(\u001b[49m\u001b[43mcTables\u001b[49m\u001b[43m \u001b[49m\u001b[38;5;241;43m-\u001b[39;49m\u001b[43m \u001b[49m\u001b[43meTables\u001b[49m\u001b[43m)\u001b[49m\u001b[43m \u001b[49m\u001b[38;5;241;43m*\u001b[39;49m\u001b[38;5;241;43m*\u001b[39;49m\u001b[43m \u001b[49m\u001b[38;5;241;43m2\u001b[39;49m\u001b[43m)\u001b[49m\u001b[43m \u001b[49m\u001b[38;5;241;43m/\u001b[39;49m\u001b[43m \u001b[49m\u001b[43meTables_zero_to_one\u001b[49m\u001b[43m)\u001b[49m\n\u001b[1;32m    370\u001b[0m \u001b[38;5;28;01melse\u001b[39;00m:\n\u001b[1;32m    371\u001b[0m     div \u001b[38;5;241m=\u001b[39m np\u001b[38;5;241m.\u001b[39mdivide(cTables, eTables_zero_to_one)\n",
      "File \u001b[0;32m~/FairPrescriptionRules/venv/lib/python3.12/site-packages/numpy/_core/fromnumeric.py:2250\u001b[0m, in \u001b[0;36m_sum_dispatcher\u001b[0;34m(a, axis, dtype, out, keepdims, initial, where)\u001b[0m\n\u001b[1;32m   2180\u001b[0m \u001b[38;5;250m    \u001b[39m\u001b[38;5;124;03m\"\"\"\u001b[39;00m\n\u001b[1;32m   2181\u001b[0m \u001b[38;5;124;03m    Clip (limit) the values in an array.\u001b[39;00m\n\u001b[1;32m   2182\u001b[0m \n\u001b[0;32m   (...)\u001b[0m\n\u001b[1;32m   2245\u001b[0m \n\u001b[1;32m   2246\u001b[0m \u001b[38;5;124;03m    \"\"\"\u001b[39;00m\n\u001b[1;32m   2247\u001b[0m     \u001b[38;5;28;01mreturn\u001b[39;00m _wrapfunc(a, \u001b[38;5;124m'\u001b[39m\u001b[38;5;124mclip\u001b[39m\u001b[38;5;124m'\u001b[39m, a_min, a_max, out\u001b[38;5;241m=\u001b[39mout, \u001b[38;5;241m*\u001b[39m\u001b[38;5;241m*\u001b[39mkwargs)\n\u001b[0;32m-> 2250\u001b[0m \u001b[38;5;28;01mdef\u001b[39;00m \u001b[38;5;21m_sum_dispatcher\u001b[39m(a, axis\u001b[38;5;241m=\u001b[39m\u001b[38;5;28;01mNone\u001b[39;00m, dtype\u001b[38;5;241m=\u001b[39m\u001b[38;5;28;01mNone\u001b[39;00m, out\u001b[38;5;241m=\u001b[39m\u001b[38;5;28;01mNone\u001b[39;00m, keepdims\u001b[38;5;241m=\u001b[39m\u001b[38;5;28;01mNone\u001b[39;00m,\n\u001b[1;32m   2251\u001b[0m                     initial\u001b[38;5;241m=\u001b[39m\u001b[38;5;28;01mNone\u001b[39;00m, where\u001b[38;5;241m=\u001b[39m\u001b[38;5;28;01mNone\u001b[39;00m):\n\u001b[1;32m   2252\u001b[0m     \u001b[38;5;28;01mreturn\u001b[39;00m (a, out)\n\u001b[1;32m   2255\u001b[0m \u001b[38;5;129m@array_function_dispatch\u001b[39m(_sum_dispatcher)\n\u001b[1;32m   2256\u001b[0m \u001b[38;5;28;01mdef\u001b[39;00m \u001b[38;5;21msum\u001b[39m(a, axis\u001b[38;5;241m=\u001b[39m\u001b[38;5;28;01mNone\u001b[39;00m, dtype\u001b[38;5;241m=\u001b[39m\u001b[38;5;28;01mNone\u001b[39;00m, out\u001b[38;5;241m=\u001b[39m\u001b[38;5;28;01mNone\u001b[39;00m, keepdims\u001b[38;5;241m=\u001b[39mnp\u001b[38;5;241m.\u001b[39m_NoValue,\n\u001b[1;32m   2257\u001b[0m         initial\u001b[38;5;241m=\u001b[39mnp\u001b[38;5;241m.\u001b[39m_NoValue, where\u001b[38;5;241m=\u001b[39mnp\u001b[38;5;241m.\u001b[39m_NoValue):\n",
      "\u001b[0;31mKeyboardInterrupt\u001b[0m: "
     ]
    }
   ],
   "source": [
    "from IPython.display import display\n",
    "from pandas import isna\n",
    "\n",
    "def DAG_generator(path: str):\n",
    "    \"\"\"_summary_\n",
    "        Input: path of csv: path/{NAME}.csv\n",
    "        Output: 3 dot files: {NAME}_pc.dot, {NAME}_ges.dot, {NAME}_lingam.dot\n",
    "    \n",
    "    \"\"\"\n",
    "    ## Input check\n",
    "    path = Path(path)\n",
    "    assert os.path.isfile(path), f\"{path} not a valid path\"\n",
    "    parent_dir = path.parent\n",
    "    prefix, format_ = os.path.basename(path).split('.')\n",
    "    assert format_ == 'csv', f\"{prefix}.{format_} not a csv file\" \n",
    "\n",
    "    df = pd.read_csv(path)\n",
    "    df = df.drop(['Unnamed: 0'], axis=1, errors='ignore').to_numpy()\n",
    "    cg = pc(df, indep_test='chisq')\n",
    "\n",
    "    cg = pc(df, indep_test=\"mv_fisherz\", mvpc=True)\n",
    "    Record = ges(df, score_func=\"local_score_marginal_multi\", )\n",
    "\n",
    "\n",
    "    print(df[np.isnan(df.to_numpy()).any(axis=1)])\n",
    "\n",
    "    # default parameters\n",
    "    # # or customized parameters\n",
    "    # cg = pc(df, alpha, indep_test, stable, uc_rule, uc_priority, mvpc, correction_name, background_knowledge, verbose, show_progress)\n",
    "\n",
    "    # # visualization using pydot\n",
    "    # cg.draw_pydot_graph()\n",
    "\n",
    "    # # or save the graph\n",
    "\n",
    "    # pyd = GraphUtils.to_pydot(cg.G)\n",
    "    # pyd.write_png('simple_test.png')\n",
    "\n",
    "DAG_generator(\"../../data/stackoverflow/so_countries_col_new.csv\")"
   ]
  },
  {
   "cell_type": "code",
   "execution_count": 21,
   "metadata": {},
   "outputs": [
    {
     "name": "stderr",
     "output_type": "stream",
     "text": [
      "Depth=10, working on node 19: 100%|██████████| 20/20 [00:04<00:00,  4.92it/s]\n"
     ]
    }
   ],
   "source": [
    "import matplotlib.pyplot as plt\n",
    "path =\"../../data/stackoverflow/so_countries_col_new.csv\"\n",
    "df = pd.read_csv(path)\n",
    "df = df.drop(['Unnamed: 0'], axis=1, errors='ignore')\n",
    "binned = pd.qcut(df['ConvertedSalary'], 4, labels=[\"lo\", \"md\", \"hi\", \"uh\"])\n",
    "df_ = df.__deepcopy__()\n",
    "df_[\"ConvertedSalary\"] = binned \n",
    "\n",
    "cg = pc(df_.to_numpy(), indep_test='chisq', stable=False)"
   ]
  },
  {
   "cell_type": "code",
   "execution_count": 17,
   "metadata": {},
   "outputs": [],
   "source": [
    "a=cg.to_nx_graph()\n",
    "pyd = GraphUtils.to_pydot(cg.G)"
   ]
  },
  {
   "cell_type": "code",
   "execution_count": 18,
   "metadata": {},
   "outputs": [],
   "source": [
    "import pygraphviz as pgv\n"
   ]
  },
  {
   "cell_type": "code",
   "execution_count": 45,
   "metadata": {},
   "outputs": [],
   "source": [
    "\n",
    "\n",
    "path =\"../../data/stackoverflow/so_countries_col_new.csv\"\n",
    "df = pd.read_csv(path)\n",
    "df = df.drop(['Unnamed: 0'], axis=1, errors='ignore')\n"
   ]
  },
  {
   "cell_type": "code",
   "execution_count": 24,
   "metadata": {},
   "outputs": [
    {
     "name": "stdout",
     "output_type": "stream",
     "text": [
      "strict digraph \"\" {\n",
      "\tgraph [bb=\"0,0,0,0\"];\n",
      "\tnode [label=\"\\N\"];\n",
      "\tCountry -> Continent;\n",
      "\tCountry -> ConvertedSalary;\n",
      "\tCountry -> HDI;\n",
      "\tCountry -> GINI;\n",
      "\tStudent -> Country;\n",
      "\tStudent -> FormalEducation;\n",
      "\tStudent -> Age;\n",
      "\tFormalEducation -> Country;\n",
      "\tFormalEducation -> YearsCoding;\n",
      "\tFormalEducation -> Age;\n",
      "\tFormalEducation -> ConvertedSalary;\n",
      "\tUndergradMajor -> FormalEducation;\n",
      "\tUndergradMajor -> DevType;\n",
      "\tUndergradMajor -> YearsCoding;\n",
      "\tUndergradMajor -> EducationParents;\n",
      "\tUndergradMajor -> Age;\n",
      "\tDevType -> Student;\n",
      "\tDevType -> FormalEducation;\n",
      "\tDevType -> YearsCoding;\n",
      "\tDevType -> HoursComputer;\n",
      "\tDevType -> Age;\n",
      "\tYearsCoding -> Country;\n",
      "\tYearsCoding -> Age;\n",
      "\tYearsCoding -> ConvertedSalary;\n",
      "\tHoursComputer -> Hobby;\n",
      "\tHoursComputer -> Country;\n",
      "\tHoursComputer -> Student;\n",
      "\tHoursComputer -> FormalEducation;\n",
      "\tHoursComputer -> YearsCoding;\n",
      "\tHoursComputer -> Age;\n",
      "\tHoursComputer -> ConvertedSalary;\n",
      "\tExercise -> Country;\n",
      "\tExercise -> HoursComputer;\n",
      "\tExercise -> ConvertedSalary;\n",
      "\tGender -> Hobby;\n",
      "\tGender -> UndergradMajor;\n",
      "\tGender -> DevType;\n",
      "\tSexualOrientation -> Gender;\n",
      "\tEducationParents -> Country;\n",
      "\tEducationParents -> FormalEducation;\n",
      "\tEducationParents -> YearsCoding;\n",
      "\tEducationParents -> Age;\n",
      "\tRaceEthnicity -> Country;\n",
      "\tRaceEthnicity -> Student;\n",
      "\tRaceEthnicity -> Gender;\n",
      "\tRaceEthnicity -> EducationParents;\n",
      "\tRaceEthnicity -> Age;\n",
      "\tDependents -> FormalEducation;\n",
      "\tDependents -> YearsCoding;\n",
      "\tDependents -> HoursComputer;\n",
      "\tDependents -> EducationParents;\n",
      "\tDependents -> Age;\n",
      "\tDependents -> ConvertedSalary;\n",
      "\tAge -> Hobby;\n",
      "\tConvertedSalary -> Student;\n",
      "\tConvertedSalary -> UndergradMajor;\n",
      "\tConvertedSalary -> DevType;\n",
      "\tConvertedSalary -> EducationParents;\n",
      "\tConvertedSalary -> Age;\n",
      "\tGDP;\n",
      "}\n",
      "\n"
     ]
    }
   ],
   "source": [
    "g = pgv.AGraph(directed=True)\n",
    "g.layout(prog=\"dot\")\n",
    "attrs = df.columns\n",
    "nodes=cg.G.get_nodes()\n",
    "edges=cg.G.get_graph_edges()\n",
    "def name_map(name):\n",
    "    idx = str(name).split('X')[1]\n",
    "    return attrs[int(idx)-1]\n",
    "for j in nodes:\n",
    "    g.add_node(name_map(j))\n",
    "for i in edges:\n",
    "    g.add_edge(name_map(i.get_node1()),name_map(i.get_node2()))\n",
    "print(g.to_string())\n",
    "g.write(\"file.dot\")\n",
    "g.draw(\"file.png\")\n",
    "\n"
   ]
  },
  {
   "cell_type": "code",
   "execution_count": 81,
   "metadata": {},
   "outputs": [
    {
     "name": "stderr",
     "output_type": "stream",
     "text": [
      "/var/folders/gp/sxncy87x1hjf6cqld15k8d0r0000gn/T/ipykernel_4691/2203903152.py:23: FutureWarning: DataFrame.applymap has been deprecated. Use DataFrame.map instead.\n",
      "  cat_attr = df1.columns[(df1.applymap(type) == str).all(0)]\n"
     ]
    },
    {
     "name": "stdout",
     "output_type": "stream",
     "text": [
      "       Hobby  Country  Student  FormalEducation  UndergradMajor  DevType  \\\n",
      "0        1.0     18.0      0.0              1.0             3.0      4.0   \n",
      "1        1.0     18.0      0.0              1.0             6.0      0.0   \n",
      "2        1.0     19.0      0.0              8.0             6.0      0.0   \n",
      "3        1.0     19.0      0.0              8.0             7.0      0.0   \n",
      "4        0.0     10.0      1.0              7.0             6.0      0.0   \n",
      "...      ...      ...      ...              ...             ...      ...   \n",
      "38085    1.0      2.0      1.0              8.0             8.0     18.0   \n",
      "38086    1.0     18.0      1.0              1.0             6.0     18.0   \n",
      "38087    1.0      7.0      1.0              1.0             6.0      0.0   \n",
      "38088    1.0      6.0      1.0              7.0             6.0     18.0   \n",
      "38089    1.0      7.0      1.0              1.0             9.0      0.0   \n",
      "\n",
      "       YearsCoding  HoursComputer  Exercise  Gender  SexualOrientation  \\\n",
      "0              8.0            1.0       2.0     0.0                3.0   \n",
      "1              9.0            2.0       0.0     0.0                3.0   \n",
      "2             10.0            4.0       3.0     0.0                3.0   \n",
      "3              8.0            2.0       3.0     0.0                3.0   \n",
      "4              0.0            2.0       2.0     0.0                3.0   \n",
      "...            ...            ...       ...     ...                ...   \n",
      "38085          7.0            0.0       3.0     0.0                3.0   \n",
      "38086          9.0            2.0       2.0     0.0                3.0   \n",
      "38087          7.0            2.0       3.0     0.0                3.0   \n",
      "38088          7.0            1.0       3.0     0.0                3.0   \n",
      "38089          7.0            2.0       3.0     0.0                0.0   \n",
      "\n",
      "       EducationParents  RaceEthnicity  Dependents  Continent  Age  \\\n",
      "0                   1.0            6.0         2.0        1.0  2.0   \n",
      "1                   6.0            6.0         0.0        1.0  0.0   \n",
      "2                   2.0            6.0         0.0        2.0  0.0   \n",
      "3                   7.0            6.0         2.0        2.0  2.0   \n",
      "4                   0.0            6.0         0.0        1.0  0.0   \n",
      "...                 ...            ...         ...        ...  ...   \n",
      "38085               2.0            6.0         0.0        1.0  0.0   \n",
      "38086               2.0            6.0         0.0        1.0  0.0   \n",
      "38087               2.0            3.0         2.0        0.0  0.0   \n",
      "38088               2.0            6.0         0.0        1.0  0.0   \n",
      "38089               4.0            6.0         2.0        0.0  0.0   \n",
      "\n",
      "       ConvertedSalary  HDI  GDP  GINI  \n",
      "0                70841  0.0  2.0   2.0  \n",
      "1                41671  0.0  2.0   2.0  \n",
      "2               120000  0.0  0.0   0.0  \n",
      "3               250000  0.0  0.0   0.0  \n",
      "4                    0  0.0  2.0   1.0  \n",
      "...                ...  ...  ...   ...  \n",
      "38085                0  0.0  2.0   1.0  \n",
      "38086            97233  0.0  2.0   2.0  \n",
      "38087             1944  2.0  1.0   0.0  \n",
      "38088            10284  0.0  2.0   2.0  \n",
      "38089                0  2.0  1.0   0.0  \n",
      "\n",
      "[38090 rows x 20 columns]\n"
     ]
    }
   ],
   "source": [
    "from sklearn.preprocessing import OneHotEncoder, OrdinalEncoder\n",
    "def entry_with_col_name(col_name, entry):\n",
    "    \"\"\"Prefix an entry with it's column name, connected with '___'\n",
    "    e.g:\n",
    "        -------------------------\n",
    "        | Age                   |\n",
    "        | '18 - 24 years old'   | \n",
    "        -------------------------\n",
    "        becomes \n",
    "        -----------------------------\n",
    "        | Age                       |\n",
    "        | 'Age___18 - 24 years old' | \n",
    "        -----------------------------\n",
    "    \n",
    "    \"\"\"\n",
    "    return f\"{col_name}___{entry}\"\n",
    "\n",
    "df1 = df.copy(deep=True)\n",
    "enc = OrdinalEncoder()\n",
    "enc.set_output(transform = 'pandas')\n",
    "\n",
    "\n",
    "cat_attr = df1.columns[(df1.applymap(type) == str).all(0)]\n",
    "\n",
    "df_cat = df1[cat_attr] # SELECT df.attI from df\n",
    "df_cat = enc.fit_transform(df_cat)\n",
    "df1[cat_attr] = df_cat\n",
    "print(df1)\n"
   ]
  },
  {
   "cell_type": "code",
   "execution_count": 82,
   "metadata": {},
   "outputs": [
    {
     "name": "stderr",
     "output_type": "stream",
     "text": [
      "  0%|          | 0/20 [00:00<?, ?it/s]"
     ]
    },
    {
     "name": "stderr",
     "output_type": "stream",
     "text": [
      "Depth=10, working on node 19: 100%|██████████| 20/20 [00:00<00:00, 781.54it/s] \n"
     ]
    }
   ],
   "source": [
    "cg1 = pc(df1.to_numpy())"
   ]
  },
  {
   "cell_type": "code",
   "execution_count": 83,
   "metadata": {},
   "outputs": [
    {
     "name": "stdout",
     "output_type": "stream",
     "text": [
      "strict digraph \"\" {\n",
      "\tgraph [bb=\"0,0,0,0\"];\n",
      "\tnode [label=\"\\N\"];\n",
      "\tCountry -> Student;\n",
      "\tCountry -> Continent;\n",
      "\tCountry -> GINI;\n",
      "\tStudent -> FormalEducation;\n",
      "\tFormalEducation -> Country;\n",
      "\tUndergradMajor -> FormalEducation;\n",
      "\tUndergradMajor -> DevType;\n",
      "\tUndergradMajor -> YearsCoding;\n",
      "\tUndergradMajor -> Gender;\n",
      "\tUndergradMajor -> EducationParents;\n",
      "\tUndergradMajor -> Age;\n",
      "\tDevType -> Student;\n",
      "\tDevType -> FormalEducation;\n",
      "\tDevType -> YearsCoding;\n",
      "\tDevType -> HoursComputer;\n",
      "\tDevType -> Gender;\n",
      "\tDevType -> Age;\n",
      "\tYearsCoding -> Country;\n",
      "\tYearsCoding -> Student;\n",
      "\tYearsCoding -> FormalEducation;\n",
      "\tYearsCoding -> Age;\n",
      "\tHoursComputer -> Hobby;\n",
      "\tHoursComputer -> Country;\n",
      "\tHoursComputer -> Student;\n",
      "\tHoursComputer -> FormalEducation;\n",
      "\tHoursComputer -> YearsCoding;\n",
      "\tHoursComputer -> Age;\n",
      "\tExercise -> Country;\n",
      "\tExercise -> FormalEducation;\n",
      "\tExercise -> HoursComputer;\n",
      "\tGender -> Hobby;\n",
      "\tSexualOrientation -> Gender;\n",
      "\tEducationParents -> Country;\n",
      "\tEducationParents -> FormalEducation;\n",
      "\tEducationParents -> YearsCoding;\n",
      "\tEducationParents -> Age;\n",
      "\tRaceEthnicity -> Country;\n",
      "\tRaceEthnicity -> Student;\n",
      "\tRaceEthnicity -> Gender;\n",
      "\tRaceEthnicity -> EducationParents;\n",
      "\tRaceEthnicity -> Age;\n",
      "\tDependents -> FormalEducation;\n",
      "\tDependents -> YearsCoding;\n",
      "\tDependents -> HoursComputer;\n",
      "\tDependents -> Age;\n",
      "\tAge -> Hobby;\n",
      "\tAge -> Student;\n",
      "\tAge -> FormalEducation;\n",
      "\tConvertedSalary -> Country;\n",
      "\tConvertedSalary -> Student;\n",
      "\tConvertedSalary -> FormalEducation;\n",
      "\tConvertedSalary -> YearsCoding;\n",
      "\tHDI;\n",
      "\tGDP;\n",
      "}\n",
      "\n"
     ]
    },
    {
     "name": "stderr",
     "output_type": "stream",
     "text": [
      "/Users/bcyl/FairPrescriptionRules/venv/lib/python3.12/site-packages/pygraphviz/agraph.py:1409: RuntimeWarning: Error: node Hobby in graph  has no position\n",
      "as required by the -n flag\n",
      "\n",
      "  warnings.warn(b\"\".join(errors).decode(self.encoding), RuntimeWarning)\n"
     ]
    }
   ],
   "source": [
    "g1 = pgv.AGraph(directed=True)\n",
    "g1.layout(prog=\"dot\")\n",
    "attrs = df.columns\n",
    "nodes=cg1.G.get_nodes()\n",
    "edges=cg1.G.get_graph_edges()\n",
    "def name_map(name):\n",
    "    idx = str(name).split('X')[1]\n",
    "    return attrs[int(idx)-1]\n",
    "for j in nodes:\n",
    "    g1.add_node(name_map(j))\n",
    "for i in edges:\n",
    "    g1.add_edge(name_map(i.get_node1()),name_map(i.get_node2()))\n",
    "print(g.to_string())\n",
    "g1.write(\"file.dot\")\n",
    "g1.draw(\"file.png\")\n",
    "\n"
   ]
  },
  {
   "cell_type": "code",
   "execution_count": null,
   "metadata": {},
   "outputs": [],
   "source": []
  }
 ],
 "metadata": {
  "kernelspec": {
   "display_name": "venv",
   "language": "python",
   "name": "python3"
  },
  "language_info": {
   "codemirror_mode": {
    "name": "ipython",
    "version": 3
   },
   "file_extension": ".py",
   "mimetype": "text/x-python",
   "name": "python",
   "nbconvert_exporter": "python",
   "pygments_lexer": "ipython3",
   "version": "3.12.5"
  }
 },
 "nbformat": 4,
 "nbformat_minor": 2
}
